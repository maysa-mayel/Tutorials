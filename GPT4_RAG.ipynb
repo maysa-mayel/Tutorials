{
  "cells": [
    {
      "cell_type": "code",
      "execution_count": null,
      "metadata": {
        "colab": {
          "base_uri": "https://localhost:8080/"
        },
        "id": "o9wpmfZLTgJz",
        "outputId": "2a5f59f5-20e1-41ca-fc35-b9560f077b64"
      },
      "outputs": [],
      "source": [
        "! pip install pypdf langchain_openai langchain_community faiss-cpu --quiet"
      ]
    },
    {
      "cell_type": "code",
      "execution_count": null,
      "metadata": {
        "id": "i-zm3NorHG3M"
      },
      "outputs": [],
      "source": [
        "# set openai key\n",
        "\n",
        "import os\n",
        "from google.colab import userdata\n",
        "\n",
        "os.environ[\"OPENAI_API_KEY\"] = userdata.get(\"openai\")"
      ]
    },
    {
      "cell_type": "code",
      "execution_count": null,
      "metadata": {
        "colab": {
          "base_uri": "https://localhost:8080/"
        },
        "id": "ljYEA2yBKGWu",
        "outputId": "6fcceda0-d1ca-49c0-9335-745080a7ba69"
      },
      "outputs": [],
      "source": [
        "# import and define LLM\n",
        "\n",
        "from langchain_openai import ChatOpenAI\n",
        "\n",
        "llm = ChatOpenAI(model=\"gpt-4\")\n",
        "llm.invoke(\"what can you help me with?\")"
      ]
    },
    {
      "cell_type": "code",
      "execution_count": null,
      "metadata": {
        "id": "wU6zuJSaQfU3"
      },
      "outputs": [],
      "source": [
        "# parse & load PDF\n",
        "\n",
        "from langchain_community.document_loaders import PyPDFLoader\n",
        "from langchain_text_splitters import CharacterTextSplitter\n",
        "\n",
        "loader = PyPDFLoader(\"/cookies.pdf\")\n",
        "pages = loader.load_and_split()\n",
        "text_splitter = CharacterTextSplitter(chunk_size=10, chunk_overlap=0)\n",
        "docs = text_splitter.split_documents(pages)"
      ]
    },
    {
      "cell_type": "code",
      "execution_count": null,
      "metadata": {
        "id": "aXNQzyjb370k"
      },
      "outputs": [],
      "source": [
        "# load to knowledge base\n",
        "\n",
        "from langchain_community.vectorstores import FAISS\n",
        "from langchain_openai import OpenAIEmbeddings\n",
        "\n",
        "faiss_index = FAISS.from_documents(pages, OpenAIEmbeddings())\n",
        "\n",
        "faiss_index.save_local('cookies')\n"
      ]
    },
    {
      "cell_type": "code",
      "execution_count": null,
      "metadata": {
        "id": "AYw4LBHx3771"
      },
      "outputs": [],
      "source": [
        " # Loading the saved embeddings\n",
        "from langchain.chains import ConversationalRetrievalChain\n",
        "from langchain.llms import OpenAI\n",
        "\n",
        "embeddings = OpenAIEmbeddings()\n",
        "\n",
        "loaded_vectors = FAISS.load_local(\"cookies\", embeddings, allow_dangerous_deserialization=True)\n",
        "\n",
        "# ConversationalRetrievalChain\n",
        "qa = ConversationalRetrievalChain.from_llm(\n",
        "    llm=llm,\n",
        "    retriever= loaded_vectors.as_retriever()\n",
        ")\n",
        "\n",
        "chat_history = []\n",
        "def rag(query):\n",
        "\n",
        "  response = qa({\"question\":query, \"chat_history\":chat_history})\n",
        "  chat_history.append((query, response['answer']))\n",
        "\n",
        "\n",
        "  return response['answer'].strip()"
      ]
    },
    {
      "cell_type": "code",
      "execution_count": null,
      "metadata": {
        "colab": {
          "base_uri": "https://localhost:8080/",
          "height": 109
        },
        "id": "BJbwuIk6HG51",
        "outputId": "4c9a0cfc-cd66-4dfe-b6c9-f32c850a9653"
      },
      "outputs": [],
      "source": [
        "rag('How long do I beat the eggs and sugar for?')"
      ]
    },
    {
      "cell_type": "code",
      "execution_count": null,
      "metadata": {
        "colab": {
          "base_uri": "https://localhost:8080/",
          "height": 178
        },
        "id": "iYlzPeGAPjXq",
        "outputId": "aaca664f-eb35-422c-8368-8b611d1df650"
      },
      "outputs": [],
      "source": [
        "rag('I want to make all 3 recipes and compare them, make me a grocery list')"
      ]
    },
    {
      "cell_type": "code",
      "execution_count": null,
      "metadata": {
        "colab": {
          "base_uri": "https://localhost:8080/",
          "height": 35
        },
        "id": "freBv5Huk97N",
        "outputId": "d09775e4-3113-40c7-ce40-bc9860a9bc18"
      },
      "outputs": [],
      "source": [
        "rag('How long does the vegan recipe take and at what temperature?')"
      ]
    },
    {
      "cell_type": "code",
      "execution_count": null,
      "metadata": {
        "id": "ERYI2HmX-WNB"
      },
      "outputs": [],
      "source": []
    }
  ],
  "metadata": {
    "colab": {
      "gpuType": "T4",
      "provenance": []
    },
    "kernelspec": {
      "display_name": "Python (faceverf)",
      "language": "python",
      "name": "faceverf"
    },
    "language_info": {
      "codemirror_mode": {
        "name": "ipython",
        "version": 3
      },
      "file_extension": ".py",
      "mimetype": "text/x-python",
      "name": "python",
      "nbconvert_exporter": "python",
      "pygments_lexer": "ipython3",
      "version": "3.11.9"
    }
  },
  "nbformat": 4,
  "nbformat_minor": 0
}
